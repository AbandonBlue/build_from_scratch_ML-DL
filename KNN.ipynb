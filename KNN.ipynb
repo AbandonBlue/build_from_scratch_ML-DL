{
 "cells": [
  {
   "cell_type": "code",
   "execution_count": 1,
   "metadata": {
    "ExecuteTime": {
     "end_time": "2020-05-23T08:31:50.592536Z",
     "start_time": "2020-05-23T08:31:50.571596Z"
    }
   },
   "outputs": [],
   "source": [
    "class KNN():\n",
    "    \n",
    "    def __init__(self, k):\n",
    "        \"\"\" \n",
    "        超參數k: int, 選擇最近的k的資料去做後續的Vote。 \n",
    "        \"\"\"\n",
    "        self.k = k\n",
    "    \n",
    "    def fit(self, x_train, y_train):\n",
    "        \"\"\"\n",
    "        x: list or ndarray(1d array)\n",
    "        y: target\n",
    "        \"\"\"\n",
    "        self.x_train = x_train\n",
    "        self.y_train = y_train\n",
    "    \n",
    "    def predict(self, x_test):\n",
    "        \"\"\"\n",
    "        1. 先計算每一個x_test資料與x_train資料的距離\n",
    "            疑問: 裝入什麼資料結構會比較方便排序, tuple合適嗎?\n",
    "        2. 將1.之結果排序\n",
    "        3. 將2.之結果抽取最近(距離最小)的k的資料並計算分類比例\n",
    "        4. 選擇最高的分類比例賦予y之pred值\n",
    "        \"\"\"\n",
    "        return self._calcualte_dist(x_test)\n",
    "        \n",
    "        \n",
    "    def _calcualte_dist(self, x_test):\n",
    "        \"\"\"\n",
    "        計算距離的函數, 分開來比較好管理。\n",
    "        \"\"\"\n",
    "        # 這邊先以一個預測為例\n",
    "        def calculate_one_sample(x_test):\n",
    "            dist = []    # 裝所有點與預測點\n",
    "            \n",
    "            for i, x in enumerate(self.x_train):\n",
    "                dist_sum = 0\n",
    "                for x_feat_train, x_feat_test in zip(x, x_test):\n",
    "                    dist_sum += (x_feat_train-x_feat_test)**2    # 加總完\n",
    "                dist_sum = (dist_sum)**0.5    # 開根號算出歐式距離\n",
    "                dist.append((i, dist_sum))\n",
    "\n",
    "            # sort by dist\n",
    "            # k: index, v: dist\n",
    "            dist_sort = sorted(dist, key=lambda z: z[1], reverse=False)\n",
    "\n",
    "            # 統計分類比例, 根據k個最近的鄰居\n",
    "            d = {}    # k: index, v: count(freq)\n",
    "            max_count_class = (0, 0)    # 次數, class\n",
    "            for i in range(self.k):\n",
    "                if self.y_train[dist_sort[i][0]] not in d:\n",
    "                    d[self.y_train[dist_sort[i][0]]] = 1\n",
    "                else:\n",
    "                    d[self.y_train[dist_sort[i][0]]] += 1\n",
    "                if d[self.y_train[dist_sort[i][0]]] > max_count_class[0]:    # 如果次數大於現在最多次數\n",
    "                    max_count_class = (d[self.y_train[dist_sort[i][0]]], self.y_train[dist_sort[i][0]])\n",
    "            \n",
    "            return max_count_class[1]\n",
    "        \n",
    "        # 全部預測\n",
    "        y_pred = []\n",
    "        \n",
    "        for x in x_test:\n",
    "            y_pred.append(calculate_one_sample(x))\n",
    "        \n",
    "        \n",
    "        return y_pred"
   ]
  },
  {
   "cell_type": "code",
   "execution_count": 2,
   "metadata": {
    "ExecuteTime": {
     "end_time": "2020-05-23T08:31:54.360268Z",
     "start_time": "2020-05-23T08:31:53.340142Z"
    }
   },
   "outputs": [],
   "source": [
    "from sklearn.datasets import load_breast_cancer\n",
    "\n",
    "data = load_breast_cancer()"
   ]
  },
  {
   "cell_type": "code",
   "execution_count": 3,
   "metadata": {
    "ExecuteTime": {
     "end_time": "2020-05-23T08:31:54.821717Z",
     "start_time": "2020-05-23T08:31:54.817730Z"
    }
   },
   "outputs": [],
   "source": [
    "x = data['data']\n",
    "y = data['target']"
   ]
  },
  {
   "cell_type": "code",
   "execution_count": 4,
   "metadata": {
    "ExecuteTime": {
     "end_time": "2020-05-23T08:31:55.217273Z",
     "start_time": "2020-05-23T08:31:55.202316Z"
    }
   },
   "outputs": [
    {
     "data": {
      "text/plain": [
       "(569, 30)"
      ]
     },
     "execution_count": 4,
     "metadata": {},
     "output_type": "execute_result"
    }
   ],
   "source": [
    "x.shape"
   ]
  },
  {
   "cell_type": "code",
   "execution_count": 5,
   "metadata": {
    "ExecuteTime": {
     "end_time": "2020-05-23T08:31:56.541252Z",
     "start_time": "2020-05-23T08:31:56.509820Z"
    }
   },
   "outputs": [],
   "source": [
    "from sklearn.model_selection import train_test_split\n",
    "\n",
    "x_train, x_test, y_train, y_test = train_test_split(x, y)"
   ]
  },
  {
   "cell_type": "code",
   "execution_count": 6,
   "metadata": {
    "ExecuteTime": {
     "end_time": "2020-05-23T08:31:57.259938Z",
     "start_time": "2020-05-23T08:31:57.254951Z"
    }
   },
   "outputs": [
    {
     "data": {
      "text/plain": [
       "(426, 30)"
      ]
     },
     "execution_count": 6,
     "metadata": {},
     "output_type": "execute_result"
    }
   ],
   "source": [
    "x_train.shape"
   ]
  },
  {
   "cell_type": "code",
   "execution_count": 7,
   "metadata": {
    "ExecuteTime": {
     "end_time": "2020-05-23T08:31:57.734232Z",
     "start_time": "2020-05-23T08:31:57.728248Z"
    }
   },
   "outputs": [
    {
     "data": {
      "text/plain": [
       "(143, 30)"
      ]
     },
     "execution_count": 7,
     "metadata": {},
     "output_type": "execute_result"
    }
   ],
   "source": [
    "x_test.shape"
   ]
  },
  {
   "cell_type": "code",
   "execution_count": 8,
   "metadata": {
    "ExecuteTime": {
     "end_time": "2020-05-23T08:31:58.228909Z",
     "start_time": "2020-05-23T08:31:58.224921Z"
    }
   },
   "outputs": [],
   "source": [
    "# model build\n",
    "\n",
    "knn = KNN(5)"
   ]
  },
  {
   "cell_type": "code",
   "execution_count": 9,
   "metadata": {
    "ExecuteTime": {
     "end_time": "2020-05-23T08:31:58.970721Z",
     "start_time": "2020-05-23T08:31:58.967615Z"
    }
   },
   "outputs": [],
   "source": [
    "# train model\n",
    "\n",
    "knn.fit(x_train , y_train)"
   ]
  },
  {
   "cell_type": "code",
   "execution_count": 10,
   "metadata": {
    "ExecuteTime": {
     "end_time": "2020-05-23T08:32:01.057226Z",
     "start_time": "2020-05-23T08:31:59.622901Z"
    }
   },
   "outputs": [],
   "source": [
    "# predict y\n",
    "\n",
    "y_pred = knn.predict(x_test)"
   ]
  },
  {
   "cell_type": "code",
   "execution_count": 11,
   "metadata": {
    "ExecuteTime": {
     "end_time": "2020-05-23T08:32:01.072117Z",
     "start_time": "2020-05-23T08:32:01.062143Z"
    }
   },
   "outputs": [
    {
     "data": {
      "text/plain": [
       "array([1, 1, 1, 0, 1, 1, 1, 1, 1, 1, 1, 1, 0, 1, 0, 1, 1, 1, 1, 0, 0, 1,\n",
       "       1, 1, 1, 0, 0, 1, 1, 1, 0, 0, 0, 1, 1, 1, 1, 1, 0, 0, 1, 1, 0, 1,\n",
       "       0, 0, 1, 1, 0, 1, 1, 1, 1, 0, 1, 1, 0, 0, 1, 1, 1, 1, 0, 1, 0, 1,\n",
       "       0, 1, 1, 1, 0, 1, 0, 1, 0, 0, 0, 0, 1, 0, 0, 1, 1, 1, 1, 1, 1, 0,\n",
       "       1, 0, 0, 1, 0, 1, 0, 1, 0, 1, 1, 1, 1, 0, 1, 1, 1, 0, 1, 1, 0, 1,\n",
       "       1, 0, 0, 1, 1, 0, 1, 1, 1, 1, 0, 0, 0, 1, 0, 1, 0, 0, 0, 0, 1, 0,\n",
       "       0, 0, 1, 1, 1, 1, 0, 1, 1, 0, 1])"
      ]
     },
     "execution_count": 11,
     "metadata": {},
     "output_type": "execute_result"
    }
   ],
   "source": [
    "y_test"
   ]
  },
  {
   "cell_type": "code",
   "execution_count": 12,
   "metadata": {
    "ExecuteTime": {
     "end_time": "2020-05-23T08:32:01.812169Z",
     "start_time": "2020-05-23T08:32:01.804187Z"
    }
   },
   "outputs": [
    {
     "data": {
      "text/plain": [
       "[1,\n",
       " 1,\n",
       " 1,\n",
       " 0,\n",
       " 1,\n",
       " 1,\n",
       " 0,\n",
       " 1,\n",
       " 1,\n",
       " 1,\n",
       " 1,\n",
       " 1,\n",
       " 0,\n",
       " 1,\n",
       " 0,\n",
       " 1,\n",
       " 1,\n",
       " 1,\n",
       " 1,\n",
       " 0,\n",
       " 0,\n",
       " 1,\n",
       " 1,\n",
       " 1,\n",
       " 1,\n",
       " 0,\n",
       " 0,\n",
       " 1,\n",
       " 1,\n",
       " 1,\n",
       " 0,\n",
       " 0,\n",
       " 0,\n",
       " 1,\n",
       " 1,\n",
       " 1,\n",
       " 1,\n",
       " 1,\n",
       " 0,\n",
       " 0,\n",
       " 1,\n",
       " 1,\n",
       " 0,\n",
       " 0,\n",
       " 0,\n",
       " 0,\n",
       " 1,\n",
       " 1,\n",
       " 0,\n",
       " 1,\n",
       " 1,\n",
       " 1,\n",
       " 1,\n",
       " 1,\n",
       " 1,\n",
       " 1,\n",
       " 0,\n",
       " 0,\n",
       " 1,\n",
       " 1,\n",
       " 1,\n",
       " 1,\n",
       " 0,\n",
       " 1,\n",
       " 0,\n",
       " 1,\n",
       " 1,\n",
       " 1,\n",
       " 1,\n",
       " 1,\n",
       " 0,\n",
       " 1,\n",
       " 0,\n",
       " 1,\n",
       " 0,\n",
       " 0,\n",
       " 0,\n",
       " 0,\n",
       " 1,\n",
       " 1,\n",
       " 0,\n",
       " 1,\n",
       " 1,\n",
       " 1,\n",
       " 1,\n",
       " 1,\n",
       " 1,\n",
       " 0,\n",
       " 1,\n",
       " 0,\n",
       " 0,\n",
       " 0,\n",
       " 1,\n",
       " 1,\n",
       " 0,\n",
       " 1,\n",
       " 0,\n",
       " 1,\n",
       " 1,\n",
       " 1,\n",
       " 1,\n",
       " 0,\n",
       " 1,\n",
       " 1,\n",
       " 1,\n",
       " 0,\n",
       " 1,\n",
       " 1,\n",
       " 0,\n",
       " 1,\n",
       " 1,\n",
       " 1,\n",
       " 0,\n",
       " 1,\n",
       " 1,\n",
       " 0,\n",
       " 1,\n",
       " 1,\n",
       " 1,\n",
       " 1,\n",
       " 0,\n",
       " 0,\n",
       " 0,\n",
       " 1,\n",
       " 0,\n",
       " 1,\n",
       " 0,\n",
       " 0,\n",
       " 0,\n",
       " 0,\n",
       " 0,\n",
       " 0,\n",
       " 0,\n",
       " 0,\n",
       " 1,\n",
       " 1,\n",
       " 1,\n",
       " 1,\n",
       " 1,\n",
       " 1,\n",
       " 1,\n",
       " 0,\n",
       " 1]"
      ]
     },
     "execution_count": 12,
     "metadata": {},
     "output_type": "execute_result"
    }
   ],
   "source": [
    "y_pred"
   ]
  },
  {
   "cell_type": "code",
   "execution_count": 13,
   "metadata": {
    "ExecuteTime": {
     "end_time": "2020-05-23T08:32:03.053777Z",
     "start_time": "2020-05-23T08:32:03.044801Z"
    }
   },
   "outputs": [
    {
     "data": {
      "text/plain": [
       "0.9300699300699301"
      ]
     },
     "execution_count": 13,
     "metadata": {},
     "output_type": "execute_result"
    }
   ],
   "source": [
    "# 算acc\n",
    "\n",
    "from sklearn.metrics import accuracy_score\n",
    "\n",
    "accuracy_score(y_test, y_pred)"
   ]
  },
  {
   "cell_type": "code",
   "execution_count": 14,
   "metadata": {
    "ExecuteTime": {
     "end_time": "2020-05-23T08:32:04.405986Z",
     "start_time": "2020-05-23T08:32:04.339343Z"
    }
   },
   "outputs": [
    {
     "data": {
      "text/plain": [
       "0.9300699300699301"
      ]
     },
     "execution_count": 14,
     "metadata": {},
     "output_type": "execute_result"
    }
   ],
   "source": [
    "# 利用sklearn的模組看看\n",
    "# 得到結果一模一樣, 模型理解正確!!\n",
    "\n",
    "from sklearn.neighbors import KNeighborsClassifier\n",
    "\n",
    "knn_sklearn = KNeighborsClassifier(5)\n",
    "knn_sklearn.fit(x_train, y_train)\n",
    "y_pred_sklearn = knn_sklearn.predict(x_test)\n",
    "\n",
    "accuracy_score(y_test, y_pred_sklearn)"
   ]
  },
  {
   "cell_type": "code",
   "execution_count": null,
   "metadata": {},
   "outputs": [],
   "source": []
  }
 ],
 "metadata": {
  "kernelspec": {
   "display_name": "Python 3",
   "language": "python",
   "name": "python3"
  },
  "language_info": {
   "codemirror_mode": {
    "name": "ipython",
    "version": 3
   },
   "file_extension": ".py",
   "mimetype": "text/x-python",
   "name": "python",
   "nbconvert_exporter": "python",
   "pygments_lexer": "ipython3",
   "version": "3.7.3"
  }
 },
 "nbformat": 4,
 "nbformat_minor": 4
}
