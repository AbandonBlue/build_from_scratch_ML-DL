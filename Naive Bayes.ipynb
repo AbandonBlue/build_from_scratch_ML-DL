{
 "cells": [
  {
   "cell_type": "code",
   "execution_count": 1,
   "metadata": {
    "ExecuteTime": {
     "end_time": "2020-05-29T15:13:49.079964Z",
     "start_time": "2020-05-29T15:13:48.108517Z"
    }
   },
   "outputs": [],
   "source": [
    "import numpy as np\n",
    "import pandas as pd"
   ]
  },
  {
   "cell_type": "code",
   "execution_count": 2,
   "metadata": {
    "ExecuteTime": {
     "end_time": "2020-05-29T15:13:49.122090Z",
     "start_time": "2020-05-29T15:13:49.086305Z"
    }
   },
   "outputs": [
    {
     "data": {
      "text/plain": [
       "0.10311081109198142"
      ]
     },
     "execution_count": 2,
     "metadata": {},
     "output_type": "execute_result"
    }
   ],
   "source": [
    "# 常態分配機率密度函數\n",
    "import numpy as np\n",
    "\n",
    "def GaussDistribution(x, mean=0, sigma=1):\n",
    "    return 1 / ((2* np.pi * (sigma**2))**0.5) * ((np.e)**(- ((x-mean)**2) / (2*((sigma)**2))))\n",
    "\n",
    "\n",
    "GaussDistribution(1.645, 0, 1)"
   ]
  },
  {
   "cell_type": "code",
   "execution_count": 3,
   "metadata": {
    "ExecuteTime": {
     "end_time": "2020-05-29T15:13:49.139046Z",
     "start_time": "2020-05-29T15:13:49.127077Z"
    }
   },
   "outputs": [
    {
     "data": {
      "text/plain": [
       "array([[1, 2, 3],\n",
       "       [2, 3, 4]])"
      ]
     },
     "execution_count": 3,
     "metadata": {},
     "output_type": "execute_result"
    }
   ],
   "source": [
    "# np.concatenate 用法\n",
    "\n",
    "a = np.array([[1, 2, 3]])\n",
    "b = np.concatenate((a, np.array([[2, 3, 4]])), axis=0)\n",
    "b"
   ]
  },
  {
   "cell_type": "code",
   "execution_count": 4,
   "metadata": {
    "ExecuteTime": {
     "end_time": "2020-05-29T15:13:49.153007Z",
     "start_time": "2020-05-29T15:13:49.143035Z"
    }
   },
   "outputs": [
    {
     "data": {
      "text/plain": [
       "array([1.5, 2.5, 3.5])"
      ]
     },
     "execution_count": 4,
     "metadata": {},
     "output_type": "execute_result"
    }
   ],
   "source": [
    "# np.mean 用法\n",
    "\n",
    "np.mean(b, axis=0)"
   ]
  },
  {
   "cell_type": "markdown",
   "metadata": {},
   "source": [
    "### 實作步驟\n",
    "\n",
    "1. 透過訓練集計算每個分類的個數以及總數, 從而計算出P(C), C= 0, 1(看多少分類)\n",
    "\n",
    "2. 透過訓練集計算每個分類中各類別的機率P(f|C), 根據離散以及連續處理方式不同。\n",
    "\n",
    "3. 由1.2.可得P(C|x), 得出樣本x屬於C的機率。"
   ]
  },
  {
   "cell_type": "code",
   "execution_count": 5,
   "metadata": {
    "ExecuteTime": {
     "end_time": "2020-05-29T15:13:49.180934Z",
     "start_time": "2020-05-29T15:13:49.157417Z"
    }
   },
   "outputs": [],
   "source": [
    "def GaussDistribution(x, mean=0, sigma=1):\n",
    "    return 1 / ((2* np.pi * (sigma**2))**0.5) * ((np.e)**(- ((x-mean)**2) / (2*((sigma)**2))))\n",
    "\n",
    "class NaiveBayes():\n",
    "#     def _GaussDistribution(self, x, mean=0, sigma=1):\n",
    "#         return 1 / ((2* np.pi * (sigma**2))**0.5) * ((np.e)**(- ((x-mean)**2) / (2*((sigma)**2))))\n",
    "    \n",
    "    def __init__(self, distribution='Gauss'):\n",
    "        if distribution == 'Gauss':\n",
    "            self.feature_distribution = GaussDistribution\n",
    "        else:\n",
    "            pass ## 可以換別的\n",
    "        \n",
    "    def fit(self, x, y):\n",
    "        \"\"\"\n",
    "        1. 透過訓練集計算每個分類的個數以及總數, 從而計算出P(C), C= 0, 1(看多少分類)\n",
    "        2. 透過訓練集計算每個分類中各特徵屬於該類別的機率P(f|C), 根據離散以及連續處理方式不同。\n",
    "        3. 由1.2.可得P(C|x), 得出樣本x屬於C的機率。\n",
    "        \"\"\"\n",
    "        # 1. 透過訓練集計算每個分類的個數以及總數, 從而計算出P(C), C= 0, 1(看多少分類)\n",
    "        self.n = len(x)    # 訓練集個數\n",
    "        self.class_len = {}    # 取得各分類的數目\n",
    "        for e in y:\n",
    "            if e not in self.class_len:\n",
    "                self.class_len[e] = 1\n",
    "            else:\n",
    "                self.class_len[e] += 1\n",
    "        \n",
    "        # 2. 透過訓練集計算每個分類中各特徵屬於該類別的機率P(f|C), 根據離散以及連續處理方式不同。\n",
    "        self.class_data = {}    # 根據類別把資料先分好\n",
    "        for e1, e2, in zip(x, y):\n",
    "            if e2 not in self.class_data:\n",
    "                self.class_data[e2] = np.array([e1])\n",
    "            else:\n",
    "                self.class_data[e2] = np.concatenate((self.class_data[e2], np.array([e1])), axis=0)   # 合併方法\n",
    "        # 求取特類別特徵的mean, std , 之後用於高斯分配求取機率\n",
    "        self.class_mean_std = {}\n",
    "        for k, v in self.class_data.items():\n",
    "            self.class_mean_std[k] = np.mean(v, axis=0), np.std(v, axis=0)\n",
    "            # print(self.class_mean_std[k])\n",
    "        \n",
    "    \n",
    "    \n",
    "    \n",
    "    def predict(self, x):\n",
    "        # 3. 由1.2.可得P(C|x), 得出樣本x屬於C的機率。\n",
    "        # 求取全部的, 再return 最大機率的class\n",
    "        y_preds = []\n",
    "        self.class_proba= {}\n",
    "        for e in x:\n",
    "            y_pred, p = 0, 0\n",
    "            for c, v in self.class_mean_std.items():    # v: np.array, np.array\n",
    "                temp_p = 1\n",
    "                for f, mean, std in zip(e, v[0], v[1]):   # v[0]: means, v[1]: stds\n",
    "                    temp_p *= self.feature_distribution(f, mean, std)\n",
    "                temp_p *= (self.class_len[c] / self.n)\n",
    "                if temp_p > p:\n",
    "                    p = temp_p\n",
    "                    y_pred = c\n",
    "            y_preds.append(y_pred)\n",
    "        \n",
    "        return np.array(y_preds)\n",
    "            \n",
    "    \n",
    "    def predict_proba(self, x):\n",
    "        pass   # not yet\n",
    "    \n",
    "    "
   ]
  },
  {
   "cell_type": "code",
   "execution_count": 6,
   "metadata": {
    "ExecuteTime": {
     "end_time": "2020-05-29T15:13:51.633119Z",
     "start_time": "2020-05-29T15:13:49.182927Z"
    }
   },
   "outputs": [],
   "source": [
    "from sklearn.datasets import load_breast_cancer\n",
    "\n",
    "data = load_breast_cancer()\n",
    "# x = pd.DataFrame(data['data'], columns=data.feature_names)\n",
    "x = data['data']\n",
    "y = data['target']"
   ]
  },
  {
   "cell_type": "code",
   "execution_count": 7,
   "metadata": {
    "ExecuteTime": {
     "end_time": "2020-05-29T15:13:51.731710Z",
     "start_time": "2020-05-29T15:13:51.663768Z"
    }
   },
   "outputs": [
    {
     "name": "stdout",
     "output_type": "stream",
     "text": [
      "(426, 30)\n",
      "(143, 30)\n"
     ]
    }
   ],
   "source": [
    "from sklearn.model_selection import train_test_split\n",
    "\n",
    "x_train, x_test, y_train, y_test = train_test_split(x, y, random_state=100)\n",
    "print(x_train.shape)\n",
    "print(x_test.shape)"
   ]
  },
  {
   "cell_type": "code",
   "execution_count": 8,
   "metadata": {
    "ExecuteTime": {
     "end_time": "2020-05-29T15:13:51.747582Z",
     "start_time": "2020-05-29T15:13:51.735525Z"
    }
   },
   "outputs": [],
   "source": [
    "# model build by my own\n",
    "\n",
    "gauss_nb = NaiveBayes()\n",
    "gauss_nb.fit(x_train, y_train)"
   ]
  },
  {
   "cell_type": "code",
   "execution_count": 9,
   "metadata": {
    "ExecuteTime": {
     "end_time": "2020-05-29T15:13:51.821299Z",
     "start_time": "2020-05-29T15:13:51.753482Z"
    }
   },
   "outputs": [
    {
     "data": {
      "text/plain": [
       "array([0, 1, 0, 1, 1, 1, 0, 0, 1, 1, 1, 0, 0, 0, 1, 1, 1, 1, 1, 1, 0, 1,\n",
       "       0, 0, 0, 0, 1, 1, 1, 1, 1, 1, 1, 0, 0, 1, 1, 1, 1, 0, 0, 1, 1, 0,\n",
       "       1, 0, 1, 1, 1, 1, 1, 1, 1, 0, 1, 0, 1, 0, 1, 1, 0, 0, 1, 1, 0, 1,\n",
       "       0, 0, 1, 0, 0, 1, 0, 0, 1, 1, 1, 0, 0, 1, 1, 0, 0, 0, 1, 0, 0, 1,\n",
       "       0, 1, 1, 1, 1, 0, 1, 0, 0, 1, 0, 1, 0, 0, 1, 1, 1, 1, 1, 1, 1, 1,\n",
       "       0, 1, 0, 1, 1, 1, 0, 1, 1, 1, 0, 1, 1, 0, 1, 1, 1, 1, 1, 0, 1, 1,\n",
       "       0, 1, 1, 0, 1, 1, 1, 1, 0, 0, 1])"
      ]
     },
     "execution_count": 9,
     "metadata": {},
     "output_type": "execute_result"
    }
   ],
   "source": [
    "y_pred = gauss_nb.predict(x_test)\n",
    "y_pred"
   ]
  },
  {
   "cell_type": "code",
   "execution_count": 10,
   "metadata": {
    "ExecuteTime": {
     "end_time": "2020-05-29T15:13:51.836257Z",
     "start_time": "2020-05-29T15:13:51.823290Z"
    }
   },
   "outputs": [
    {
     "data": {
      "text/plain": [
       "0.9440559440559441"
      ]
     },
     "execution_count": 10,
     "metadata": {},
     "output_type": "execute_result"
    }
   ],
   "source": [
    "from sklearn.metrics import accuracy_score\n",
    "\n",
    "acc = accuracy_score(y_pred, y_test)\n",
    "acc"
   ]
  },
  {
   "cell_type": "code",
   "execution_count": 13,
   "metadata": {
    "ExecuteTime": {
     "end_time": "2020-05-29T15:15:04.653766Z",
     "start_time": "2020-05-29T15:15:04.641034Z"
    }
   },
   "outputs": [
    {
     "data": {
      "text/plain": [
       "0.9440559440559441"
      ]
     },
     "execution_count": 13,
     "metadata": {},
     "output_type": "execute_result"
    }
   ],
   "source": [
    "# 利用sklearn套建來算\n",
    "# 結果一樣, 演算法還原完成!!\n",
    "# 結果幾乎一模一樣, seed改變acc有些微差距, 推測應該是浮點運算上的誤差。\n",
    "# 可能是常態分配那邊\n",
    "\n",
    "\n",
    "from sklearn.naive_bayes import GaussianNB\n",
    "\n",
    "nb = GaussianNB()\n",
    "nb.fit(x_train, y_train)\n",
    "y_pred_sklearn = nb.predict(x_test)\n",
    "acc_sklearn = accuracy_score(y_pred_sklearn, y_test)\n",
    "acc_sklearn"
   ]
  },
  {
   "cell_type": "code",
   "execution_count": null,
   "metadata": {},
   "outputs": [],
   "source": []
  },
  {
   "cell_type": "code",
   "execution_count": null,
   "metadata": {},
   "outputs": [],
   "source": []
  }
 ],
 "metadata": {
  "kernelspec": {
   "display_name": "Python 3",
   "language": "python",
   "name": "python3"
  },
  "language_info": {
   "codemirror_mode": {
    "name": "ipython",
    "version": 3
   },
   "file_extension": ".py",
   "mimetype": "text/x-python",
   "name": "python",
   "nbconvert_exporter": "python",
   "pygments_lexer": "ipython3",
   "version": "3.7.3"
  }
 },
 "nbformat": 4,
 "nbformat_minor": 4
}
