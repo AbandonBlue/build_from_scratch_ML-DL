{
 "cells": [
  {
   "cell_type": "code",
   "execution_count": 1,
   "metadata": {
    "ExecuteTime": {
     "end_time": "2020-05-24T09:50:05.503619Z",
     "start_time": "2020-05-24T09:50:05.489658Z"
    }
   },
   "outputs": [
    {
     "data": {
      "text/plain": [
       "0.7842102799840794"
      ]
     },
     "execution_count": 1,
     "metadata": {},
     "output_type": "execute_result"
    }
   ],
   "source": [
    "import random\n",
    "\n",
    "random.random()   # 0~1實數"
   ]
  },
  {
   "cell_type": "markdown",
   "metadata": {},
   "source": [
    "### 寫得有點亂, 有空重寫一個版本"
   ]
  },
  {
   "cell_type": "code",
   "execution_count": 1,
   "metadata": {
    "ExecuteTime": {
     "end_time": "2020-05-24T15:42:10.127149Z",
     "start_time": "2020-05-24T15:42:09.985300Z"
    }
   },
   "outputs": [],
   "source": [
    "import numpy as np\n",
    "import random\n",
    "\n",
    "class Cluster():\n",
    "    def __init__(self, value, elements):\n",
    "        self.value = value\n",
    "        self.elements = elements\n",
    "\n",
    "\n",
    "class KMeans():\n",
    "    def __init__(self, k):\n",
    "        \"\"\"\n",
    "        k: int, 群心、分群數目\n",
    "        \"\"\"\n",
    "        self.k = k\n",
    "        self.y_labels = []    # 標籤\n",
    "        self.k_clusters = []    # 初始化結果, : Cluster\n",
    "        \n",
    "    def _init_cluster_central(self, x_train):\n",
    "        \"\"\"\n",
    "        隨機分配群心，依據初始化model的k。\n",
    "        \"\"\"\n",
    "        # 求得每一個特徵的最大最小值, 再搭配random取得random init\n",
    "        features = []    # 儲存每一個特徵的最大最小值, (max, min)\n",
    "        \n",
    "        for j in range(len(x_train[0])):    # 特徵數, 取得每一個特徵的最大最小值\n",
    "            min_ = float('inf')\n",
    "            max_ = float('-inf')\n",
    "            for k in range(len(x_train)):\n",
    "                if x_train[k][j] > max_:\n",
    "                    max_ = x_train[k][j]\n",
    "                if x_train[k][j] < min_:\n",
    "                    min_ = x_train[k][j]\n",
    "            features.append((max_, min_))\n",
    "        # print(features)\n",
    "        \n",
    "        for i in range(self.k):    # 初始化群心\n",
    "            # print(features[i][0], features[i][1], random.random())\n",
    "            value = []\n",
    "            for j in range(len(x_train[0])):\n",
    "                value.append((features[j][0]-features[j][1]) * random.random() + features[j][1])\n",
    "            c = Cluster(value, [])\n",
    "            self.k_clusters.append(c)   # 此時elements為空\n",
    "    \n",
    "    def _get_dist(self, x1, x2):\n",
    "        \"\"\"\n",
    "        兩點間求距離\n",
    "        \"\"\"\n",
    "        dist = 0\n",
    "        \n",
    "        for e1, e2 in zip(x1, x2):\n",
    "            dist += (e1-e2)**2\n",
    "        return dist**0.5\n",
    "    \n",
    "    def _converge(self, iteration, x_train):\n",
    "        # 1. 更新群心\n",
    "        # 2. 算dist, 重新分類, 重複1.\n",
    "        # 這邊我用1000次去做結束, 應該有其他方法判斷是否收斂, 但我這邊簡單的用1000次iteration去做結束。\n",
    "        for i in range(iteration):\n",
    "            for j in range(len(self.k_clusters)):\n",
    "                for k in range(len(x_train[0])):\n",
    "                    # 這邊是計算加總該特徵的, 取平均\n",
    "                    self.k_clusters[j].value[k] = 0\n",
    "                    for e in self.k_clusters[j].elements:\n",
    "                        self.k_clusters[j].value[k] += e[k]\n",
    "                    if self.k_clusters[j].elements:\n",
    "                        # 如果有分配到那邊才算\n",
    "                        self.k_clusters[j].value[k] /= len(self.k_clusters[j].elements)\n",
    "                # self.k_clusters[j].value = np.mean(self.k_clusters[j].elements)    # update 群心\n",
    "                self.k_clusters[j].elements = []    # 更新完之後, 舊的elements需要重新分, 所以初始化***\n",
    "        \n",
    "            # 算dist\n",
    "            # 因為更新, 之前的都洗掉\n",
    "            self.y_labels = []\n",
    "                \n",
    "            # 算每一筆資料與群心的dist, 存入list\n",
    "            for x in x_train:\n",
    "                dist_list = []\n",
    "                for i, cluster in enumerate(self.k_clusters):\n",
    "                    dist_list.append((i, self._get_dist(x, cluster.value)))    # 儲存 index, dist, 之後用dist排序\n",
    "                dist_list = sorted(dist_list, key=lambda element: element[1], reverse=False)\n",
    "                self.y_labels.append(dist_list[0][0])    # 群心的index, 也可以直接作為分類           \n",
    "                self.k_clusters[dist_list[0][0]].elements.append(x)    # 將資料分到該分類\n",
    "    \n",
    "    \n",
    "    \n",
    "    \n",
    "    def fit_predict(self, x_train, iteration=20):\n",
    "        \"\"\"\n",
    "        x_train: 1d-array, 需要貼標的資料。\n",
    "        \n",
    "        \"\"\"\n",
    "        \n",
    "        # 初始化群心\n",
    "        self._init_cluster_central(x_train)   \n",
    "        \n",
    "        # 算每一筆資料與群心的dist, 存入list\n",
    "        for x in x_train:\n",
    "            dist_list = []\n",
    "            for i, cluster in enumerate(self.k_clusters):\n",
    "                dist_list.append((i, self._get_dist(x, cluster.value)))    # 儲存 index, dist, 之後用dist排序\n",
    "            # print(dist_list)  # 這邊沒問題\n",
    "            dist_list = sorted(dist_list, key=lambda element: element[1], reverse=False)\n",
    "            self.y_labels.append(dist_list[0][0])    # 群心的index, 也可以直接作為分類           \n",
    "            self.k_clusters[dist_list[0][0]].elements.append(x)    # 將資料分到該分類\n",
    "        \n",
    "        # repeat until the clusters converge\n",
    "        self._converge(iteration, x_train)\n",
    "        \n",
    "        return self.y_labels\n",
    "        \n",
    "                    \n",
    "                \n",
    "        \n",
    "        "
   ]
  },
  {
   "cell_type": "code",
   "execution_count": 2,
   "metadata": {
    "ExecuteTime": {
     "end_time": "2020-05-24T15:42:11.189151Z",
     "start_time": "2020-05-24T15:42:10.175792Z"
    }
   },
   "outputs": [],
   "source": [
    "# 利用手寫辨識來試試, 可以知道應該為10群\n",
    "\n",
    "from sklearn.datasets import load_digits\n",
    "\n",
    "data = load_digits()\n",
    "x = data['data']\n",
    "y = data['target']"
   ]
  },
  {
   "cell_type": "code",
   "execution_count": 3,
   "metadata": {
    "ExecuteTime": {
     "end_time": "2020-05-24T15:42:11.206038Z",
     "start_time": "2020-05-24T15:42:11.191112Z"
    }
   },
   "outputs": [
    {
     "data": {
      "text/plain": [
       "(1797, 64)"
      ]
     },
     "execution_count": 3,
     "metadata": {},
     "output_type": "execute_result"
    }
   ],
   "source": [
    "x.shape"
   ]
  },
  {
   "cell_type": "code",
   "execution_count": 4,
   "metadata": {
    "ExecuteTime": {
     "end_time": "2020-05-24T15:42:11.217009Z",
     "start_time": "2020-05-24T15:42:11.211026Z"
    }
   },
   "outputs": [
    {
     "data": {
      "text/plain": [
       "(1797,)"
      ]
     },
     "execution_count": 4,
     "metadata": {},
     "output_type": "execute_result"
    }
   ],
   "source": [
    "y.shape"
   ]
  },
  {
   "cell_type": "code",
   "execution_count": 5,
   "metadata": {
    "ExecuteTime": {
     "end_time": "2020-05-24T15:42:11.258896Z",
     "start_time": "2020-05-24T15:42:11.222993Z"
    }
   },
   "outputs": [],
   "source": [
    "from sklearn.model_selection import train_test_split\n",
    "\n",
    "x_train, x_test, y_train, y_test = train_test_split(x, y)"
   ]
  },
  {
   "cell_type": "code",
   "execution_count": 6,
   "metadata": {
    "ExecuteTime": {
     "end_time": "2020-05-24T15:42:11.266878Z",
     "start_time": "2020-05-24T15:42:11.260895Z"
    }
   },
   "outputs": [
    {
     "data": {
      "text/plain": [
       "(1347, 64)"
      ]
     },
     "execution_count": 6,
     "metadata": {},
     "output_type": "execute_result"
    }
   ],
   "source": [
    "x_train.shape"
   ]
  },
  {
   "cell_type": "code",
   "execution_count": 7,
   "metadata": {
    "ExecuteTime": {
     "end_time": "2020-05-24T15:42:11.284827Z",
     "start_time": "2020-05-24T15:42:11.269867Z"
    }
   },
   "outputs": [
    {
     "data": {
      "text/plain": [
       "(450, 64)"
      ]
     },
     "execution_count": 7,
     "metadata": {},
     "output_type": "execute_result"
    }
   ],
   "source": [
    "x_test.shape"
   ]
  },
  {
   "cell_type": "code",
   "execution_count": 8,
   "metadata": {
    "ExecuteTime": {
     "end_time": "2020-05-24T15:42:11.389547Z",
     "start_time": "2020-05-24T15:42:11.380573Z"
    }
   },
   "outputs": [
    {
     "data": {
      "text/plain": [
       "array([ 0.,  1., 10., 15., 15.,  5.,  0.,  0.,  0., 11., 16.,  9., 12.,\n",
       "       10.,  0.,  0.,  0., 15.,  6.,  0., 14.,  7.,  0.,  0.,  0.,  0.,\n",
       "        0.,  6., 16.,  5.,  0.,  0.,  0.,  0.,  1., 15., 11.,  0.,  0.,\n",
       "        0.,  0.,  0.,  5., 16.,  4.,  0.,  0.,  0.,  0.,  1., 15., 11.,\n",
       "        8., 12., 14.,  1.,  0.,  1., 15., 16., 16., 12.,  5.,  0.])"
      ]
     },
     "execution_count": 8,
     "metadata": {},
     "output_type": "execute_result"
    }
   ],
   "source": [
    "x_train[0]"
   ]
  },
  {
   "cell_type": "code",
   "execution_count": 12,
   "metadata": {
    "ExecuteTime": {
     "end_time": "2020-05-24T15:43:24.838510Z",
     "start_time": "2020-05-24T15:43:12.419727Z"
    }
   },
   "outputs": [],
   "source": [
    "# model build\n",
    "\n",
    "kmeans = KMeans(k=10)\n",
    "y_pred = kmeans.fit_predict(x_train)"
   ]
  },
  {
   "cell_type": "code",
   "execution_count": 17,
   "metadata": {
    "ExecuteTime": {
     "end_time": "2020-05-24T15:45:12.134800Z",
     "start_time": "2020-05-24T15:45:12.128815Z"
    }
   },
   "outputs": [
    {
     "name": "stdout",
     "output_type": "stream",
     "text": [
      "1347\n",
      "[2 1 3 ... 0 0 2]\n"
     ]
    }
   ],
   "source": [
    "print(len(y_train))\n",
    "print(y_train)"
   ]
  },
  {
   "cell_type": "code",
   "execution_count": 21,
   "metadata": {
    "ExecuteTime": {
     "end_time": "2020-05-24T15:47:27.237398Z",
     "start_time": "2020-05-24T15:47:27.092697Z"
    }
   },
   "outputs": [
    {
     "name": "stdout",
     "output_type": "stream",
     "text": [
      "2\n"
     ]
    },
    {
     "data": {
      "image/png": "[encoded data removed]",
      "text/plain": [
       "<Figure size 432x288 with 1 Axes>"
      ]
     },
     "metadata": {
      "needs_background": "light"
     },
     "output_type": "display_data"
    }
   ],
   "source": [
    "import matplotlib.pyplot as plt\n",
    "%matplotlib inline\n",
    "\n",
    "plt.imshow(x_train[0].reshape((8, 8)))\n",
    "print(y_train[0])"
   ]
  },
  {
   "cell_type": "code",
   "execution_count": 18,
   "metadata": {
    "ExecuteTime": {
     "end_time": "2020-05-24T15:45:19.626192Z",
     "start_time": "2020-05-24T15:45:19.620172Z"
    }
   },
   "outputs": [
    {
     "name": "stdout",
     "output_type": "stream",
     "text": [
      "1347\n",
      "[5, 3, 1, 9, 8, 3, 3, 4, 6, 8, 8, 9, 0, 2, 5, 0, 3, 2, 1, 8, 7, 1, 5, 1, 4, 6, 9, 1, 4, 1, 4, 2, 2, 0, 3, 7, 3, 2, 3, 1, 8, 5, 0, 5, 7, 9, 0, 2, 4, 9, 0, 2, 0, 8, 2, 9, 5, 8, 0, 0, 5, 4, 8, 1, 1, 4, 1, 5, 1, 7, 4, 3, 1, 1, 7, 6, 3, 8, 5, 1, 4, 5, 1, 1, 1, 0, 1, 5, 5, 4, 0, 3, 4, 0, 0, 1, 3, 5, 8, 2, 5, 3, 1, 1, 6, 4, 1, 2, 0, 1, 2, 1, 5, 1, 4, 9, 1, 8, 8, 7, 2, 2, 3, 9, 0, 6, 1, 1, 8, 6, 1, 0, 3, 0, 4, 4, 6, 2, 8, 9, 6, 6, 7, 8, 8, 9, 7, 3, 1, 0, 1, 2, 2, 4, 7, 1, 1, 8, 0, 1, 5, 8, 7, 3, 1, 8, 7, 0, 1, 1, 1, 8, 5, 6, 4, 3, 6, 4, 6, 0, 9, 1, 0, 3, 9, 3, 1, 3, 5, 8, 8, 3, 2, 6, 8, 8, 6, 9, 5, 4, 8, 1, 2, 3, 2, 8, 3, 5, 5, 5, 3, 4, 9, 3, 1, 8, 1, 3, 3, 0, 9, 1, 4, 9, 2, 1, 4, 1, 0, 5, 0, 2, 0, 3, 9, 3, 1, 1, 9, 8, 5, 4, 5, 6, 4, 7, 0, 1, 4, 1, 3, 5, 5, 0, 3, 2, 1, 1, 3, 4, 3, 1, 1, 5, 3, 8, 4, 7, 6, 5, 3, 1, 1, 5, 1, 4, 8, 8, 3, 9, 5, 0, 2, 7, 1, 8, 1, 9, 8, 1, 1, 8, 2, 1, 0, 3, 9, 7, 2, 1, 7, 9, 1, 1, 9, 9, 3, 9, 0, 4, 8, 1, 1, 5, 9, 5, 8, 3, 3, 1, 2, 9, 5, 1, 1, 1, 5, 8, 1, 8, 7, 1, 5, 8, 4, 3, 1, 7, 1, 0, 4, 5, 4, 5, 6, 3, 1, 8, 9, 4, 8, 0, 4, 0, 9, 2, 1, 4, 1, 4, 1, 0, 3, 9, 5, 2, 8, 1, 6, 3, 8, 2, 7, 2, 4, 6, 0, 8, 0, 1, 9, 3, 6, 5, 6, 3, 8, 0, 7, 4, 4, 4, 0, 1, 7, 1, 8, 9, 2, 8, 3, 4, 4, 1, 8, 4, 3, 1, 3, 2, 8, 4, 5, 0, 4, 0, 4, 4, 1, 0, 1, 3, 3, 8, 2, 6, 8, 1, 8, 5, 3, 6, 0, 1, 3, 9, 7, 1, 9, 9, 2, 1, 4, 3, 1, 1, 3, 2, 8, 9, 1, 4, 1, 5, 6, 2, 1, 0, 1, 2, 3, 6, 7, 1, 4, 1, 9, 3, 3, 3, 5, 3, 0, 2, 1, 3, 5, 2, 9, 7, 1, 3, 4, 4, 4, 4, 3, 7, 4, 3, 7, 7, 2, 5, 6, 9, 3, 1, 5, 9, 8, 9, 8, 2, 9, 9, 3, 1, 0, 1, 1, 9, 1, 1, 1, 1, 1, 8, 1, 0, 1, 2, 3, 8, 4, 5, 5, 9, 9, 6, 7, 3, 6, 4, 0, 9, 8, 9, 6, 1, 5, 8, 2, 5, 4, 1, 2, 1, 1, 0, 1, 3, 5, 9, 5, 2, 2, 9, 2, 4, 0, 9, 5, 1, 9, 1, 9, 2, 3, 7, 8, 1, 1, 9, 3, 0, 7, 7, 3, 4, 4, 9, 8, 0, 6, 9, 4, 1, 4, 1, 3, 5, 7, 7, 7, 8, 7, 8, 3, 7, 3, 3, 8, 8, 9, 8, 4, 8, 1, 2, 8, 6, 5, 4, 8, 5, 2, 0, 9, 0, 1, 1, 0, 1, 5, 9, 4, 8, 2, 2, 8, 9, 3, 1, 4, 6, 5, 9, 5, 5, 8, 0, 9, 9, 7, 7, 8, 1, 5, 1, 2, 2, 2, 0, 9, 1, 2, 1, 4, 0, 0, 4, 3, 6, 1, 1, 4, 1, 3, 1, 4, 1, 6, 3, 8, 2, 5, 0, 1, 3, 3, 1, 8, 9, 9, 7, 5, 4, 5, 1, 4, 2, 9, 0, 4, 1, 1, 6, 0, 3, 4, 3, 2, 7, 9, 1, 0, 5, 8, 2, 4, 8, 1, 3, 1, 4, 4, 2, 1, 4, 5, 6, 4, 5, 0, 1, 4, 6, 2, 9, 1, 0, 2, 2, 3, 7, 3, 8, 1, 9, 6, 8, 7, 4, 9, 8, 9, 3, 4, 0, 3, 1, 4, 5, 9, 0, 0, 6, 4, 1, 3, 1, 0, 7, 2, 1, 4, 4, 3, 3, 4, 3, 1, 5, 3, 5, 3, 1, 6, 0, 8, 1, 0, 1, 4, 3, 8, 1, 6, 8, 5, 1, 5, 5, 0, 7, 1, 1, 4, 8, 1, 4, 7, 5, 5, 5, 6, 5, 1, 1, 3, 3, 4, 7, 4, 1, 6, 8, 2, 7, 0, 8, 3, 7, 3, 8, 0, 0, 9, 1, 9, 4, 6, 2, 3, 1, 1, 9, 1, 8, 8, 1, 1, 8, 8, 8, 8, 2, 5, 1, 1, 4, 0, 5, 0, 2, 6, 0, 4, 1, 8, 8, 4, 9, 8, 4, 2, 6, 1, 4, 1, 8, 5, 4, 8, 5, 0, 8, 8, 2, 0, 4, 3, 0, 0, 9, 9, 5, 9, 4, 5, 1, 3, 9, 5, 3, 9, 5, 1, 6, 3, 0, 3, 9, 8, 4, 4, 1, 5, 0, 1, 7, 1, 5, 7, 3, 5, 9, 3, 4, 5, 1, 0, 2, 1, 2, 2, 7, 3, 0, 3, 6, 1, 3, 6, 0, 0, 1, 8, 6, 9, 3, 6, 3, 0, 4, 8, 4, 9, 9, 5, 8, 4, 1, 1, 8, 4, 9, 0, 5, 9, 3, 9, 5, 7, 5, 1, 0, 5, 1, 5, 1, 1, 4, 6, 0, 2, 0, 3, 0, 9, 5, 0, 3, 1, 4, 5, 3, 4, 9, 3, 3, 8, 4, 4, 8, 3, 1, 9, 8, 1, 1, 2, 3, 3, 1, 3, 9, 1, 0, 6, 7, 4, 1, 5, 0, 0, 5, 8, 0, 2, 3, 9, 7, 3, 3, 5, 4, 6, 9, 4, 9, 8, 7, 5, 9, 3, 9, 8, 2, 8, 9, 3, 2, 2, 1, 6, 4, 1, 5, 3, 5, 8, 7, 3, 3, 1, 8, 2, 9, 7, 6, 4, 4, 3, 8, 5, 5, 5, 5, 8, 8, 6, 1, 5, 1, 1, 4, 1, 9, 3, 6, 0, 2, 0, 3, 3, 5, 4, 3, 3, 5, 0, 3, 2, 8, 4, 0, 5, 3, 8, 4, 8, 8, 1, 8, 5, 1, 4, 3, 2, 1, 1, 9, 9, 1, 5, 5, 8, 1, 3, 4, 9, 0, 3, 9, 2, 2, 1, 5, 1, 0, 1, 0, 2, 0, 2, 1, 5, 7, 9, 2, 8, 1, 4, 5, 4, 3, 3, 1, 8, 9, 5, 3, 3, 4, 9, 9, 1, 9, 1, 3, 1, 6, 5, 1, 3, 8, 1, 3, 1, 3, 7, 6, 4, 3, 0, 0, 6, 0, 5, 3, 2, 3, 0, 8, 8, 0, 4, 8, 1, 4, 8, 0, 7, 1, 3, 5, 8, 5, 8, 2, 9, 6, 3, 5, 0, 6, 2, 1, 1, 2, 2, 3, 4, 2, 1, 6, 0, 3, 2, 5, 0, 9, 8, 9, 5, 9, 5, 5, 2, 3, 2, 1, 0, 1, 7, 4, 9, 4, 9, 3, 8, 1, 1, 2, 4, 1, 7, 7, 8, 4, 0, 1, 1, 4, 1, 8, 0, 2, 0, 1, 1, 1, 3, 5, 8, 7, 1, 1, 2, 4, 0, 7, 9, 1, 2, 2, 5, 5, 8, 5, 0, 8, 1, 4, 6, 6, 5, 0, 3, 5, 7, 2, 3, 4, 9, 8, 2, 5, 1, 8, 5, 3, 4, 2, 0, 8, 6, 9, 0, 1, 5, 5, 5, 5, 1, 3, 9, 6, 8, 9, 1, 5, 3, 0, 1, 7, 9, 4, 8, 6, 0, 5, 0, 6, 5, 8, 5, 6, 0, 3, 0, 2, 8, 8, 5]\n"
     ]
    }
   ],
   "source": [
    "print(len(y_pred))\n",
    "print(y_pred)"
   ]
  },
  {
   "cell_type": "code",
   "execution_count": 27,
   "metadata": {
    "ExecuteTime": {
     "end_time": "2020-05-24T15:50:41.780930Z",
     "start_time": "2020-05-24T15:50:41.774917Z"
    }
   },
   "outputs": [],
   "source": [
    "ones = []\n",
    "for i, e in enumerate(y_pred):\n",
    "    if e == 1:\n",
    "        ones.append(i)"
   ]
  },
  {
   "cell_type": "code",
   "execution_count": 28,
   "metadata": {
    "ExecuteTime": {
     "end_time": "2020-05-24T15:50:48.064292Z",
     "start_time": "2020-05-24T15:50:48.055312Z"
    }
   },
   "outputs": [
    {
     "data": {
      "text/plain": [
       "[2,\n",
       " 18,\n",
       " 21,\n",
       " 23,\n",
       " 27,\n",
       " 29,\n",
       " 39,\n",
       " 63,\n",
       " 64,\n",
       " 66,\n",
       " 68,\n",
       " 72,\n",
       " 73,\n",
       " 79,\n",
       " 82,\n",
       " 83,\n",
       " 84,\n",
       " 86,\n",
       " 95,\n",
       " 102,\n",
       " 103,\n",
       " 106,\n",
       " 109,\n",
       " 111,\n",
       " 113,\n",
       " 116,\n",
       " 126,\n",
       " 127,\n",
       " 130,\n",
       " 148,\n",
       " 150,\n",
       " 155,\n",
       " 156,\n",
       " 159,\n",
       " 164,\n",
       " 168,\n",
       " 169,\n",
       " 170,\n",
       " 181,\n",
       " 186,\n",
       " 201,\n",
       " 214,\n",
       " 216,\n",
       " 221,\n",
       " 225,\n",
       " 227,\n",
       " 236,\n",
       " 237,\n",
       " 247,\n",
       " 249,\n",
       " 256,\n",
       " 257,\n",
       " 261,\n",
       " 262,\n",
       " 271,\n",
       " 272,\n",
       " 274,\n",
       " 284,\n",
       " 286,\n",
       " 289,\n",
       " 290,\n",
       " 293,\n",
       " 299,\n",
       " 302,\n",
       " 303,\n",
       " 311,\n",
       " 312,\n",
       " 319,\n",
       " 323,\n",
       " 324,\n",
       " 325,\n",
       " 328,\n",
       " 331,\n",
       " 336,\n",
       " 338,\n",
       " 346,\n",
       " 356,\n",
       " 358,\n",
       " 360,\n",
       " 367,\n",
       " 379,\n",
       " 393,\n",
       " 395,\n",
       " 403,\n",
       " 407,\n",
       " 418,\n",
       " 420,\n",
       " 427,\n",
       " 433,\n",
       " 437,\n",
       " 441,\n",
       " 444,\n",
       " 445,\n",
       " 450,\n",
       " 452,\n",
       " 456,\n",
       " 458,\n",
       " 463,\n",
       " 465,\n",
       " 474,\n",
       " 480,\n",
       " 497,\n",
       " 507,\n",
       " 509,\n",
       " 510,\n",
       " 512,\n",
       " 513,\n",
       " 514,\n",
       " 515,\n",
       " 516,\n",
       " 518,\n",
       " 520,\n",
       " 539,\n",
       " 545,\n",
       " 547,\n",
       " 548,\n",
       " 550,\n",
       " 563,\n",
       " 565,\n",
       " 571,\n",
       " 572,\n",
       " 587,\n",
       " 589,\n",
       " 608,\n",
       " 620,\n",
       " 621,\n",
       " 623,\n",
       " 633,\n",
       " 647,\n",
       " 649,\n",
       " 655,\n",
       " 657,\n",
       " 664,\n",
       " 665,\n",
       " 667,\n",
       " 669,\n",
       " 671,\n",
       " 678,\n",
       " 681,\n",
       " 689,\n",
       " 695,\n",
       " 696,\n",
       " 705,\n",
       " 712,\n",
       " 714,\n",
       " 718,\n",
       " 725,\n",
       " 730,\n",
       " 738,\n",
       " 751,\n",
       " 759,\n",
       " 761,\n",
       " 765,\n",
       " 772,\n",
       " 777,\n",
       " 781,\n",
       " 783,\n",
       " 787,\n",
       " 791,\n",
       " 796,\n",
       " 797,\n",
       " 800,\n",
       " 808,\n",
       " 809,\n",
       " 815,\n",
       " 829,\n",
       " 835,\n",
       " 836,\n",
       " 838,\n",
       " 841,\n",
       " 842,\n",
       " 849,\n",
       " 850,\n",
       " 859,\n",
       " 868,\n",
       " 870,\n",
       " 891,\n",
       " 898,\n",
       " 907,\n",
       " 910,\n",
       " 912,\n",
       " 921,\n",
       " 924,\n",
       " 932,\n",
       " 937,\n",
       " 953,\n",
       " 954,\n",
       " 966,\n",
       " 969,\n",
       " 971,\n",
       " 972,\n",
       " 984,\n",
       " 997,\n",
       " 1000,\n",
       " 1001,\n",
       " 1005,\n",
       " 1008,\n",
       " 1013,\n",
       " 1045,\n",
       " 1048,\n",
       " 1056,\n",
       " 1073,\n",
       " 1075,\n",
       " 1076,\n",
       " 1078,\n",
       " 1104,\n",
       " 1107,\n",
       " 1111,\n",
       " 1112,\n",
       " 1115,\n",
       " 1119,\n",
       " 1128,\n",
       " 1130,\n",
       " 1132,\n",
       " 1137,\n",
       " 1143,\n",
       " 1149,\n",
       " 1158,\n",
       " 1160,\n",
       " 1162,\n",
       " 1165,\n",
       " 1168,\n",
       " 1170,\n",
       " 1190,\n",
       " 1195,\n",
       " 1209,\n",
       " 1210,\n",
       " 1216,\n",
       " 1233,\n",
       " 1235,\n",
       " 1243,\n",
       " 1244,\n",
       " 1247,\n",
       " 1253,\n",
       " 1254,\n",
       " 1256,\n",
       " 1261,\n",
       " 1262,\n",
       " 1263,\n",
       " 1268,\n",
       " 1269,\n",
       " 1275,\n",
       " 1284,\n",
       " 1300,\n",
       " 1311,\n",
       " 1316,\n",
       " 1322,\n",
       " 1326]"
      ]
     },
     "execution_count": 28,
     "metadata": {},
     "output_type": "execute_result"
    }
   ],
   "source": [
    "ones"
   ]
  },
  {
   "cell_type": "code",
   "execution_count": 38,
   "metadata": {
    "ExecuteTime": {
     "end_time": "2020-05-24T15:52:07.622107Z",
     "start_time": "2020-05-24T15:52:07.498499Z"
    }
   },
   "outputs": [
    {
     "name": "stdout",
     "output_type": "stream",
     "text": [
      "3\n"
     ]
    },
    {
     "data": {
      "image/png": "[encoded data removed]",
      "text/plain": [
       "<Figure size 432x288 with 1 Axes>"
      ]
     },
     "metadata": {
      "needs_background": "light"
     },
     "output_type": "display_data"
    }
   ],
   "source": [
    "i = 103\n",
    "\n",
    "plt.imshow((x_train[i].reshape(8, -1)))\n",
    "print(y_train[i])"
   ]
  },
  {
   "cell_type": "code",
   "execution_count": 10,
   "metadata": {
    "ExecuteTime": {
     "end_time": "2020-05-24T15:42:26.409908Z",
     "start_time": "2020-05-24T15:42:26.403925Z"
    }
   },
   "outputs": [
    {
     "data": {
      "text/plain": [
       "16.76305461424021"
      ]
     },
     "execution_count": 10,
     "metadata": {},
     "output_type": "execute_result"
    }
   ],
   "source": [
    "kmeans._get_dist([1, 2, 3], [10, 12, 13])"
   ]
  },
  {
   "cell_type": "code",
   "execution_count": null,
   "metadata": {},
   "outputs": [],
   "source": []
  },
  {
   "cell_type": "code",
   "execution_count": null,
   "metadata": {},
   "outputs": [],
   "source": []
  }
 ],
 "metadata": {
  "kernelspec": {
   "display_name": "Python 3.7.3 64-bit",
   "language": "python",
   "name": "python37364bit6893c7013b164b1189a865dcaea9fb2f"
  },
  "language_info": {
   "codemirror_mode": {
    "name": "ipython",
    "version": 3
   },
   "file_extension": ".py",
   "mimetype": "text/x-python",
   "name": "python",
   "nbconvert_exporter": "python",
   "pygments_lexer": "ipython3",
   "version": "3.7.3"
  }
 },
 "nbformat": 4,
 "nbformat_minor": 4
}
